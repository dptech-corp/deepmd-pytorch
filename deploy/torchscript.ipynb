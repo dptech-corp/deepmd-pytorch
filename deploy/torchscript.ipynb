{
 "cells": [
  {
   "cell_type": "code",
   "execution_count": null,
   "metadata": {},
   "outputs": [],
   "source": [
    "import torch\n",
    "from torch import nn"
   ]
  },
  {
   "cell_type": "markdown",
   "metadata": {},
   "source": [
    "# Model"
   ]
  },
  {
   "cell_type": "code",
   "execution_count": null,
   "metadata": {},
   "outputs": [],
   "source": [
    "class EnergyModel(nn.Module):\n",
    "    def __init__(self):\n",
    "        super().__init__()\n",
    "        layer = nn.Linear(256, 1)\n",
    "        return None\n",
    "    def energy(self, x):\n",
    "        return layer(x)\n",
    "    def forward(self, x: torch.Tensor):\n",
    "        x.requires_grad_(True)\n",
    "        energy = energy(x)\n",
    "        y = energy.sum()\n",
    "        grad = torch.autograd.grad([y], [x], create_graph=False)[0] # for inference only\n",
    "        if not grad is None: # grad might be None for the JIT compiler\n",
    "            grad = - grad\n",
    "        return energy, grad\n",
    "model = EnergyModel()\n",
    "input = torch.randn((4, 256))\n",
    "model = torch.jit.script(model)\n",
    "model(input)"
   ]
  },
  {
   "cell_type": "code",
   "execution_count": null,
   "metadata": {},
   "outputs": [],
   "source": [
    "model = EnergyModel()\n",
    "input = torch.randn((4, 256))\n",
    "model = torch.jit.script(model)\n",
    "model(input)"
   ]
  },
  {
   "cell_type": "markdown",
   "metadata": {},
   "source": [
    "# Scripting Example\n",
    "https://github.com/pytorch/pytorch/issues/46483"
   ]
  },
  {
   "cell_type": "code",
   "execution_count": null,
   "metadata": {},
   "outputs": [],
   "source": [
    "import torch\n",
    "\n",
    "x = torch.randn(16, 30, 10, requires_grad=True).cuda()\n",
    "y = torch.randn(16, 10, 1, requires_grad=True).cuda()\n",
    "z = torch.randn(16, 30, 1, requires_grad=True).cuda()\n",
    "\n",
    "\n",
    "@torch.jit.script\n",
    "def sample_function(x: torch.Tensor, y:torch.Tensor, z:torch.Tensor):\n",
    "    xy = torch.bmm(x, y)\n",
    "    diff = z - xy\n",
    "    grad = torch.autograd.grad([diff.mean()], [y])[0]\n",
    "    if grad is not None:\n",
    "        y = y - grad\n",
    "    return y"
   ]
  },
  {
   "cell_type": "markdown",
   "metadata": {},
   "source": [
    "# Compile"
   ]
  },
  {
   "cell_type": "markdown",
   "metadata": {},
   "source": [
    "## Region3D"
   ]
  },
  {
   "cell_type": "code",
   "execution_count": null,
   "metadata": {},
   "outputs": [],
   "source": [
    "import torch\n",
    "class Region3D(object):\n",
    "\n",
    "    def __init__(self, boxt):\n",
    "        '''Construct a simulation box.'''\n",
    "        boxt = boxt.reshape([3, 3])\n",
    "        boxt = boxt.permute(1, 0)  # 用于世界坐标转内部坐标\n",
    "        rec_boxt = torch.linalg.inv(boxt)  # 用于内部坐标转世界坐标\n",
    "\n",
    "        # 计算空间属性\n",
    "        volume = torch.linalg.det(boxt)  # 平行六面体空间的体积\n",
    "        c_yz = torch.cross(boxt[1], boxt[2])\n",
    "        _h2yz = volume / torch.linalg.norm(c_yz)\n",
    "        c_zx = torch.cross(boxt[2], boxt[0])\n",
    "        _h2zx = volume / torch.linalg.norm(c_zx)\n",
    "        c_xy = torch.cross(boxt[0], boxt[1])\n",
    "        _h2xy = volume / torch.linalg.norm(c_xy)\n",
    "\n",
    "    def phys2inter(self, coord):\n",
    "        '''Convert physical coordinates to internal ones.'''\n",
    "        return coord@rec_boxt\n",
    "\n",
    "    def inter2phys(self, coord):\n",
    "        '''Convert internal coordinates to physical ones.'''\n",
    "        return coord@boxt\n",
    "\n",
    "    def get_face_distance(self):\n",
    "        '''Return face distinces to each surface of YZ, ZX, XY.'''\n",
    "        return torch.stack([_h2yz, _h2zx, _h2xy])\n",
    "\n",
    "def func(box):\n",
    "    region = Region3D(box)\n",
    "    return region.phys2inter(box)"
   ]
  },
  {
   "cell_type": "code",
   "execution_count": null,
   "metadata": {},
   "outputs": [],
   "source": [
    "opt_func = torch.compile(func, dynamic=True)\n",
    "func(2*torch.eye(3))"
   ]
  },
  {
   "cell_type": "markdown",
   "metadata": {},
   "source": [
    "## Full Model"
   ]
  },
  {
   "cell_type": "code",
   "execution_count": null,
   "metadata": {},
   "outputs": [],
   "source": [
    "import logging\n",
    "import torch\n",
    "\n",
    "from typing import Any, Dict\n",
    "\n",
    "from deepmd_pt import my_random\n",
    "from deepmd_pt.dataset import DeepmdDataSet\n",
    "from deepmd_pt.learning_rate import LearningRateExp\n",
    "from deepmd_pt.loss import EnergyStdLoss\n",
    "from deepmd_pt.model import EnergyModel\n",
    "from deepmd_pt.env import DEVICE, JIT\n",
    "import json\n",
    "\n",
    "with open(\"tests/water/se_e2_a.json\", 'r') as fin:\n",
    "    content = fin.read()\n",
    "config = json.loads(content)\n",
    "\n",
    "model_params = config['model']\n",
    "training_params = config['training']\n",
    "my_random.seed(training_params['seed'])\n",
    "dataset_params = training_params.pop('training_data')\n",
    "training_data = DeepmdDataSet(\n",
    "    systems=dataset_params['systems'],\n",
    "    batch_size=dataset_params['batch_size'],\n",
    "    type_map=model_params['type_map']\n",
    ")\n",
    "model = EnergyModel(model_params, training_data).to(DEVICE)\n",
    "\n",
    "torch._dynamo.config.verbose = True\n",
    "model = torch.compile(model, dynamic=True)\n",
    "\n",
    "bdata = training_data.get_batch(tf=False, pt=True)\n",
    "\n",
    "# Prepare inputs\n",
    "coord = bdata['coord']\n",
    "atype = bdata['type']\n",
    "natoms = bdata['natoms_vec']\n",
    "box = bdata['box']\n",
    "l_energy = bdata['energy']\n",
    "l_force = bdata['force']\n",
    "\n",
    "# Compute prediction error\n",
    "coord.requires_grad_(True)\n",
    "p_energy, p_force = model(coord, atype, natoms, box)"
   ]
  },
  {
   "cell_type": "markdown",
   "metadata": {},
   "source": [
    "## Descriptor"
   ]
  },
  {
   "cell_type": "code",
   "execution_count": null,
   "metadata": {},
   "outputs": [],
   "source": [
    "from deepmd_pt.descriptor import smoothDescriptor\n",
    "import numpy as np\n",
    "from deepmd_pt.env import *\n",
    "from deepmd_pt.dataset import DeepmdDataSet\n",
    "import os\n",
    "\n",
    "rcut = 6.\n",
    "rcut_smth = 0.5\n",
    "sel = [46, 92]\n",
    "\n",
    "sec = np.cumsum(sel)\n",
    "ntypes = len(sel)\n",
    "nnei = sum(sel)\n",
    "CUR_DIR = \"tests/\"\n",
    "ntypes=2\n",
    "ds = DeepmdDataSet([\n",
    "    os.path.join(CUR_DIR, 'water/data/data_0'),\n",
    "    os.path.join(CUR_DIR, 'water/data/data_1'),\n",
    "    os.path.join(CUR_DIR, 'water/data/data_2')\n",
    "], 2, ['O', 'H'])\n",
    "np_batch, pt_batch = ds.get_batch(pt=True)\n",
    "pt_coord = pt_batch['coord']\n",
    "pt_coord.requires_grad_(True)\n",
    "smoothDescriptor = torch.compile(smoothDescriptor, dynamic=True)\n",
    "avg_zero = torch.zeros([ntypes, nnei*4], dtype=GLOBAL_PT_FLOAT_PRECISION)\n",
    "std_ones = torch.ones([ntypes, nnei*4], dtype=GLOBAL_PT_FLOAT_PRECISION)\n",
    "my_d = smoothDescriptor(\n",
    "    pt_coord.to(DEVICE),\n",
    "    pt_batch['type'],\n",
    "    pt_batch['natoms_vec'],\n",
    "    pt_batch['box'],\n",
    "    avg_zero.reshape([-1, nnei, 4]).to(DEVICE),\n",
    "    std_ones.reshape([-1, nnei, 4]).to(DEVICE),\n",
    "    rcut,\n",
    "    rcut_smth,\n",
    "    sec\n",
    ")"
   ]
  },
  {
   "cell_type": "code",
   "execution_count": null,
   "metadata": {},
   "outputs": [],
   "source": []
  }
 ],
 "metadata": {
  "kernelspec": {
   "display_name": "Python 3.8.0 64-bit ('pytorch2': conda)",
   "language": "python",
   "name": "python3"
  },
  "language_info": {
   "codemirror_mode": {
    "name": "ipython",
    "version": 3
   },
   "file_extension": ".py",
   "mimetype": "text/x-python",
   "name": "python",
   "nbconvert_exporter": "python",
   "pygments_lexer": "ipython3",
   "version": "3.8.0"
  },
  "orig_nbformat": 4,
  "vscode": {
   "interpreter": {
    "hash": "cde868f60759bf8e4b37201ffe2890cc880d55a4910423e6882047df9a58e535"
   }
  }
 },
 "nbformat": 4,
 "nbformat_minor": 2
}
