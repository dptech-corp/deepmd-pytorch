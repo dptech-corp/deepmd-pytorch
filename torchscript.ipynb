{
 "cells": [
  {
   "cell_type": "code",
   "execution_count": null,
   "metadata": {},
   "outputs": [],
   "source": [
    "import torch\n",
    "from torch import nn"
   ]
  },
  {
   "cell_type": "markdown",
   "metadata": {},
   "source": [
    "# Model"
   ]
  },
  {
   "cell_type": "code",
   "execution_count": null,
   "metadata": {},
   "outputs": [],
   "source": [
    "class EnergyModel(nn.Module):\n",
    "    def __init__(self):\n",
    "        super().__init__()\n",
    "        self.layer = nn.Linear(256, 1)\n",
    "        return None\n",
    "    def energy(self, x):\n",
    "        return self.layer(x)\n",
    "    def forward(self, x: torch.Tensor):\n",
    "        x.requires_grad_(True)\n",
    "        energy = self.energy(x)\n",
    "        y = energy.sum()\n",
    "        grad = torch.autograd.grad([y], [x], create_graph=False)[0] # for inference only\n",
    "        if not grad is None: # grad might be None for the JIT compiler\n",
    "            grad = - grad\n",
    "        return energy, grad\n",
    "model = EnergyModel()\n",
    "input = torch.randn((4, 256))\n",
    "model = torch.jit.script(model)\n",
    "model(input)"
   ]
  },
  {
   "cell_type": "code",
   "execution_count": null,
   "metadata": {},
   "outputs": [],
   "source": [
    "model = EnergyModel()\n",
    "input = torch.randn((4, 256))\n",
    "model = torch.jit.script(model)\n",
    "model(input)"
   ]
  },
  {
   "cell_type": "markdown",
   "metadata": {},
   "source": [
    "# Scripting Example\n",
    "https://github.com/pytorch/pytorch/issues/46483"
   ]
  },
  {
   "cell_type": "code",
   "execution_count": null,
   "metadata": {},
   "outputs": [],
   "source": [
    "import torch\n",
    "\n",
    "x = torch.randn(16, 30, 10, requires_grad=True).cuda()\n",
    "y = torch.randn(16, 10, 1, requires_grad=True).cuda()\n",
    "z = torch.randn(16, 30, 1, requires_grad=True).cuda()\n",
    "\n",
    "\n",
    "@torch.jit.script\n",
    "def sample_function(x: torch.Tensor, y:torch.Tensor, z:torch.Tensor):\n",
    "    xy = torch.bmm(x, y)\n",
    "    diff = z - xy\n",
    "    grad = torch.autograd.grad([diff.mean()], [y])[0]\n",
    "    if grad is not None:\n",
    "        y = y - grad\n",
    "    return y"
   ]
  }
 ],
 "metadata": {
  "kernelspec": {
   "display_name": "Python 3.8.13 64-bit ('base': conda)",
   "language": "python",
   "name": "python3"
  },
  "language_info": {
   "codemirror_mode": {
    "name": "ipython",
    "version": 3
   },
   "file_extension": ".py",
   "mimetype": "text/x-python",
   "name": "python",
   "nbconvert_exporter": "python",
   "pygments_lexer": "ipython3",
   "version": "3.8.13"
  },
  "orig_nbformat": 4,
  "vscode": {
   "interpreter": {
    "hash": "d4d1e4263499bec80672ea0156c357c1ee493ec2b1c70f0acce89fc37c4a6abe"
   }
  }
 },
 "nbformat": 4,
 "nbformat_minor": 2
}
